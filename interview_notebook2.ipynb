{
 "nbformat": 4,
 "nbformat_minor": 5,
 "metadata": {
  "kernelspec": {
   "name": "python3",
   "display_name": "Python 3"
  },
  "language_info": {
   "name": "python"
  }
 },
 "cells": [
  {
   "cell_type": "code",
   "metadata": {},
   "execution_count": null,
   "source": [
    "from transformers import AutoModelForCausalLM, AutoTokenizer"
   ],
   "outputs": []
  },
  {
   "cell_type": "code",
   "metadata": {},
   "execution_count": null,
   "source": [
    "from google.colab import drive\n",
    "drive.mount('/content/drive')"
   ],
   "outputs": []
  },
  {
   "cell_type": "code",
   "metadata": {},
   "execution_count": null,
   "source": [
    "model_path = \"/content/drive/MyDrive/job_question_generator3\"\n",
    "model = AutoModelForCausalLM.from_pretrained(model_path)\n",
    "tokenizer = AutoTokenizer.from_pretrained(model_path)"
   ],
   "outputs": []
  },
  {
   "cell_type": "code",
   "metadata": {},
   "execution_count": null,
   "source": [
    "import gradio as gr\n",
    "import torch\n",
    "from transformers import AutoTokenizer, AutoModelForCausalLM\n",
    "\n",
    "tokenizer = AutoTokenizer.from_pretrained(model_path)\n",
    "tokenizer.pad_token = tokenizer.eos_token\n",
    "model = AutoModelForCausalLM.from_pretrained(model_path)\n",
    "model.eval()\n",
    "if torch.cuda.is_available():\n",
    "    model.to(\"cuda\")\n",
    "\n",
    "def generate_questions(job_title, num_questions=5):\n",
    "    prompt = f\"Role: {job_title}\\nQuestion:\"\n",
    "    input_ids = tokenizer(prompt, return_tensors=\"pt\").input_ids\n",
    "    if torch.cuda.is_available():\n",
    "        input_ids = input_ids.to(\"cuda\")\n",
    "\n",
    "    with torch.no_grad():\n",
    "        outputs = model.generate(\n",
    "            input_ids=input_ids,\n",
    "            max_new_tokens=50,\n",
    "            num_return_sequences=num_questions,\n",
    "            do_sample=True,\n",
    "            temperature=0.8,\n",
    "            top_p=0.9\n",
    "        )\n",
    "\n",
    "    questions = []\n",
    "    for o in outputs:\n",
    "        text = tokenizer.decode(o, skip_special_tokens=True)\n",
    "        question_only = text.replace(f\"Role: {job_title}\\nQuestion:\", \"\").strip()\n",
    "        questions.append(question_only)\n",
    "\n",
    "    return \"\\n\".join(questions)\n",
    "\n",
    "iface = gr.Interface(\n",
    "    fn=generate_questions,\n",
    "    inputs=[gr.Textbox(label=\"Job Title\")],\n",
    "    outputs=gr.Textbox(label=\"Generated Questions\", lines=10),\n",
    "    title=\"Interview Question Generator\"\n",
    ")\n",
    "\n",
    "iface.launch(share=True)"
   ],
   "outputs": []
  }
 ]
}
